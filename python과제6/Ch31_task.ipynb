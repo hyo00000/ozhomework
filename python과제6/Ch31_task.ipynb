{
 "cells": [
  {
   "cell_type": "markdown",
   "metadata": {},
   "source": [
    "문자열 리스트를 받아, 각 문자열의 길이를 출력하는 함수 print_lengths를 작성하세요."
   ]
  },
  {
   "cell_type": "markdown",
   "metadata": {},
   "source": [
    "def print_lengths(x,y,z):\n",
    "    x길이 = len(x)\n",
    "    y길이 = len(y)\n",
    "    z길이 = len(z)\n",
    "    print(f'x의 길이는 {x길이}, y의 길이는 {y길이}, z의 길이는 {z길이}')\n",
    "\n",
    "x = str(input(\"문자를 입력하세요.\"))\n",
    "y = str(input(\"문자를 입력하세요.\"))\n",
    "z = str(input(\"문자를 입력하세요.\"))\n",
    "\n",
    "lengths = print_lengths(x,y,z)\n",
    "print(lengths)"
   ]
  }
 ],
 "metadata": {
  "kernelspec": {
   "display_name": "Python 3",
   "language": "python",
   "name": "python3"
  },
  "language_info": {
   "codemirror_mode": {
    "name": "ipython",
    "version": 3
   },
   "file_extension": ".py",
   "mimetype": "text/x-python",
   "name": "python",
   "nbconvert_exporter": "python",
   "pygments_lexer": "ipython3",
   "version": "3.9.6"
  }
 },
 "nbformat": 4,
 "nbformat_minor": 2
}
