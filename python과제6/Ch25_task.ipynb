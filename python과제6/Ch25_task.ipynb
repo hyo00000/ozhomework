{
 "cells": [
  {
   "cell_type": "markdown",
   "metadata": {},
   "source": [
    "두 개의 정수를 받아 합을 반환하는 함수 add를 작성하세요. 매개변수와 반환값에 타입 어노테이션을 추가하세요."
   ]
  },
  {
   "cell_type": "markdown",
   "metadata": {},
   "source": [
    "def add(x,y):\n",
    "   return x + y\n",
    "\n",
    "num1 = int(input(\"숫자를 입력하세요\"))\n",
    "num2 = int(input(\"숫자를 입력하세요\"))\n",
    "\n",
    "sum = add(num1, num2)\n",
    "print(sum)\n",
    "\n",
    "*어노테이션 추가가 뭐지?"
   ]
  }
 ],
 "metadata": {
  "kernelspec": {
   "display_name": "Python 3",
   "language": "python",
   "name": "python3"
  },
  "language_info": {
   "codemirror_mode": {
    "name": "ipython",
    "version": 3
   },
   "file_extension": ".py",
   "mimetype": "text/x-python",
   "name": "python",
   "nbconvert_exporter": "python",
   "pygments_lexer": "ipython3",
   "version": "3.9.6"
  }
 },
 "nbformat": 4,
 "nbformat_minor": 2
}
