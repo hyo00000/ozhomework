{
 "cells": [
  {
   "cell_type": "markdown",
   "metadata": {},
   "source": [
    "사용자로부터 3개의 숫자를 입력받아, 이를 튜플로 만든 후 최소값과 최대값을 출력하는 함수 min_max를 작성하세요."
   ]
  },
  {
   "cell_type": "markdown",
   "metadata": {},
   "source": [
    "def min_max(x, y, z):\n",
    "    min_value = min(x,y,z) \n",
    "    max_value = max(x,y,z) \n",
    "    \n",
    "    print(f\"최대값은: {max_value}\")\n",
    "    print(f\"최소값은: {min_value}\")\n",
    "\n",
    "    \n",
    "x = int(input(\"숫자를 입력해주세요.\"))\n",
    "y = int(input(\"숫자를 입력해주세요.\"))\n",
    "z = int(input(\"숫자를 입력해주세요.\"))\n",
    "\n",
    "result = min_max(x, y, z)\n",
    "print(result)"
   ]
  }
 ],
 "metadata": {
  "kernelspec": {
   "display_name": "Python 3",
   "language": "python",
   "name": "python3"
  },
  "language_info": {
   "codemirror_mode": {
    "name": "ipython",
    "version": 3
   },
   "file_extension": ".py",
   "mimetype": "text/x-python",
   "name": "python",
   "nbconvert_exporter": "python",
   "pygments_lexer": "ipython3",
   "version": "3.9.6"
  }
 },
 "nbformat": 4,
 "nbformat_minor": 2
}
