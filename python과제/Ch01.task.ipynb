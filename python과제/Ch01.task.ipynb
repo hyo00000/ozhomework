{
 "cells": [
  {
   "cell_type": "markdown",
   "metadata": {},
   "source": [
    "<span style=\"font-size:100%\">\n",
    "\n",
    "수업은 모두 열심히 들으셨나요?\n",
    "\n",
    "간혹 강의에서 언급되지 않은 내용이 문제로 나올 수 있습니다.<br>\n",
    "그럴땐 강의 내용 외 문제는 구글링을 통해 해결해주세요<br></span>\n",
    "<span style=\"font-size:80%\">\n",
    "(구글링 또한 개발자가 갖쳐야할 역량 중에 하나랍니다 😊)\n",
    "</span>\n",
    "\n",
    "---"
   ]
  },
  {
   "cell_type": "markdown",
   "metadata": {},
   "source": [
    "<span style=\"font-size:80%\">[문제1]<br><br></span>\n",
    "```인터프리트 방식에 대해 설명하고 2개 이상의 장점을 설명해주세요```"
   ]
  },
  {
   "cell_type": "markdown",
   "metadata": {},
   "source": [
    "<span style=\"color:red\">답변</span>"
   ]
  },
  {
   "cell_type": "markdown",
   "metadata": {},
   "source": [
    "인터프리트 방식은 코드를 한줄씩 순차적으로 해석하고 실행하는 것을 말합니다.\n",
    "python과 javascript는 인터프리트 방식의 프로그래밍 언어를 사용하는데 \n",
    "한줄씩 순차적으로 해석한 후 바로 실행하기 때문에 코드의 수정과 실행이 빠르고 \n",
    "에러의 발생지점을 정확하게 파악할 수 있습니다.(디버깅의 용이성) 그렇다보니 \n",
    "인터프리트만 설치가 되어있으면 어떠한 운영체제에서도 실행할 수 있어 다양한 플랫폼에서 널리 사용되고 있습니다."
   ]
  },
  {
   "cell_type": "markdown",
   "metadata": {},
   "source": [
    "---"
   ]
  },
  {
   "cell_type": "markdown",
   "metadata": {},
   "source": [
    "<span style=\"font-size:80%\">[문제2]<br><br></span>\n",
    "```동적 타입 방식의 장점과 단점을 간략히 설명해주세요```"
   ]
  },
  {
   "cell_type": "markdown",
   "metadata": {},
   "source": [
    "<span style=\"color:red\">답변</span>"
   ]
  },
  {
   "cell_type": "markdown",
   "metadata": {},
   "source": [
    "python은 동적타입언어인데\n",
    "장점은 코드가 간결하고 변수의 타입을 자유롭게 변경할 수 있어 유연한 코딩이 가능하다는 점입니다.\n",
    "그리고 타입을 미리 정의할 필요가 없기 때문에 개발 초기단계에서 빠르게 프로토타입을 작성해 테스트할 수 있습니다.\n",
    "그만큼 단점도 있는데 프로그램이 실행중에 발생하는 오류인 런타임 에러가 발생 할 수 있으며\n",
    "코드만 봐서는 변수의 타입을 알기 어려워서 가독성도 떨어지고 남이 작성해둔 것을 받아서 프로젝트를 할 경우 \n",
    "어려움을 겪을 수 있습니다."
   ]
  },
  {
   "cell_type": "markdown",
   "metadata": {},
   "source": [
    "---"
   ]
  },
  {
   "cell_type": "markdown",
   "metadata": {},
   "source": [
    "<span style=\"font-size:80%\">[문제3]<br><br></span>\n",
    "```Python으로 정적타입 방식의 코드를 작성할 수 있는 방법을 구글링을 통해 검색 후 설명해주세요```"
   ]
  },
  {
   "cell_type": "markdown",
   "metadata": {},
   "source": [
    "<span style=\"color:red\">답변</span>"
   ]
  },
  {
   "cell_type": "markdown",
   "metadata": {},
   "source": [
    "python의 타입 힌트를 이용하여 코드를 정적으로 검사하는 도구인 mypy를 설치해 정적 타입 체크를 하는 방법이 있습니다."
   ]
  },
  {
   "cell_type": "markdown",
   "metadata": {},
   "source": [
    "---"
   ]
  },
  {
   "cell_type": "markdown",
   "metadata": {},
   "source": [
    "<span style=\"font-size:80%\">[문제4]<br><br></span>\n",
    "```프로세스와 스레드의 차이점을 설명해주세요```"
   ]
  },
  {
   "cell_type": "markdown",
   "metadata": {},
   "source": [
    "<span style=\"color:red\">답변</span>"
   ]
  },
  {
   "cell_type": "markdown",
   "metadata": {},
   "source": [
    "프로세스는 독립적인 프로그램 실행 단위로, 각자의 메모리 공간을 가진다.\n",
    "스레드는 프로세스 내에서 실행되는 작업의 단위로, 같은 프로세스 내의 다른 스레드와 자원을 공유한다.\n",
    "\n",
    "따라서 한 프로세스 안에 여러개의 스레드를 가질 수 있다."
   ]
  },
  {
   "cell_type": "markdown",
   "metadata": {},
   "source": [
    "---"
   ]
  },
  {
   "cell_type": "markdown",
   "metadata": {},
   "source": [
    "<span style=\"font-size:80%\">[문제5]<br><br></span>\n",
    "```Python 2버전대와 3버전대의 차이를 성명해주세요```"
   ]
  },
  {
   "cell_type": "markdown",
   "metadata": {},
   "source": [
    "<span style=\"color:red\">답변</span>"
   ]
  },
  {
   "cell_type": "markdown",
   "metadata": {},
   "source": [
    "python 2 버전\n",
    " print 문(statement)로 사용, 정수 나눗셈에서 나머지를 버림, 문자열은 기본적으로 ASC11\n",
    "python 3 버전\n",
    " print() 로 사용, 정수 나눗셈의 결과는 항상 실수처러, 문자열은 기본적으로 유니코드(Unicode)\n",
    " \n",
    "두 버전의 코드가 달라 호환성 문제를 일으켜서 현제는 python3가 주로 사용되고 있다."
   ]
  },
  {
   "cell_type": "markdown",
   "metadata": {},
   "source": [
    "---"
   ]
  },
  {
   "cell_type": "markdown",
   "metadata": {},
   "source": [
    "<span style=\"font-size:80%\">[문제6]<br><br></span>\n",
    "```Python에서 메모리 관리는 어떻게 이루어지는지 설명해주세요```"
   ]
  },
  {
   "cell_type": "markdown",
   "metadata": {},
   "source": [
    "<span style=\"color:red\">답변</span>"
   ]
  },
  {
   "cell_type": "markdown",
   "metadata": {},
   "source": [
    "python에서 메모리 관리는 대부분 자동으로 이루어지고 있기 때문에 개발자가 별도의 메모리 관리르 신경 쓸 필요가 없지만 \n",
    "대규모 테이터 처리나 특정 어플리케이션에서는 메모리 사용을 최적화하기 위한 추가적인 고려가 필요하다.\n",
    "이런 경우 weak reference나 적적한 데이터 구조를 사용해 메모리 누수를 방지해야한다.\n",
    "\n",
    "python은 객체 지향 프로그래밍 언어이며, 모든 데이터는 객체로 표현된다. 이 객체들은 동적으로 메모리에 할당되고 관리된다."
   ]
  }
 ],
 "metadata": {
  "language_info": {
   "name": "python"
  }
 },
 "nbformat": 4,
 "nbformat_minor": 2
}
