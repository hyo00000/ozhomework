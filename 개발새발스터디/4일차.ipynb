{
 "cells": [
  {
   "cell_type": "markdown",
   "metadata": {},
   "source": [
    "###Unit16 핵심요약\n",
    "\n",
    "* for반복문은 반복 횟수가 정해져 있을 때 주로 사용한다.\n",
    "\n",
    "for반복문 with range\n",
    " \n",
    "for 변수 in range(횟수): -> 반복할 코드로 순환하는 것을 루프라고 한다.   \n",
    "    반복할 코드\n",
    "\n",
    "<증가폭 양수>   \n",
    "for 변수 in range(시작, 끝)  \n",
    "for 변수 in range(시작, 끝, 증가폭) \n",
    "\n",
    "<증가폭 음수>   \n",
    "for 변수 in reversed(range(횟수))  \n",
    "for 변수 in reversed(range(시작, 끝))  \n",
    "for 변수 in reversed(range(시작, 끝, 증가폭))  \n",
    "\n",
    "<시퀀스 객체 반복하기>\n",
    "a=[10,20,30,40,50]  \n",
    "for i in a:  \n",
    "    print(a)  \n",
    "    *  range에 대신 시퀀스 객체를 넣으면 된다!  \n",
    "    * 리스트, 튜플, 문자열 등 시퀀스 객체를 반복할 수 있다!  \n",
    "    * 반대로 뒤집어 출력하고 싶을 때는 reversed\n",
    "\n",
    "\n"
   ]
  },
  {
   "cell_type": "code",
   "execution_count": null,
   "metadata": {},
   "outputs": [],
   "source": [
    "# <연습문제>리스트의 요소에 10을 곱해서 출력하기\n",
    "# 다음 소스 코드를 완성하여 리스트 x에 들어있는 각 숫자(요소)에 10을 곱한 값을 출력되게 만드세요.\n",
    "# 모든 숫자는 공백으로 구분하여 한 줄로 출력되어야합니다.\n",
    "\n",
    "# x = [49, -17, 25, 102, 8, 62, 21]\n"
   ]
  },
  {
   "cell_type": "code",
   "execution_count": null,
   "metadata": {},
   "outputs": [],
   "source": [
    "# <심사문제>구구단 출력하기\n",
    "# 표준 입력으로 정수가 입력됩니다. 입력된 정수의 구구단을 출력하는 프로그램을 만드세요.\n",
    "# 풀력형식은 숫자 * 숫자 = 숫자 처럼 만들고 숫자와 *, = 사이는 공백을 한 칸 띄웁니다."
   ]
  },
  {
   "cell_type": "markdown",
   "metadata": {},
   "source": [
    "###Unit17핵심요약\n",
    "\n",
    "i = 0     => 초기식\n",
    "while i < 100:      => 조건식\n",
    "    print('hello, world!')    => 반복할 코드\n",
    "    i += 1     =>  변화식\n",
    "\n",
    "* while 반복문은 조건식으로만 동작하며 반복할 코드 안에 조건식에 영향을 주는 변화식이 들어간다.\n",
    "* 조건식이 참이면 코드를 계속 반복하고 거짓이면 반복문을 끝낸 뒤 다음 코드를 실행한다.\n",
    "* 조건식 -> 반복할 코드 및 변화식 -> 조건식으로 순환 =>루프\n",
    "\n",
    "\n",
    "<반복할 횟수가 정해지지 않은 경우>\n",
    "모듈을 사용하면 됨.\n",
    "\n",
    "import random   # random 이라는 모듈을 가져옴\n",
    "\n",
    "cf. random.random() : 계속 다른 실수가 출력됨\n",
    "    random.randint(a,b): a부터 b 안에서 계속 다른 정수가 출력됨\n",
    "    random.choice() : 시퀀스 객체에서 요소를 무작위로 선택할 수 있음 => 주사위 같은 거 굴릴 때 쓰면 좋음\n",
    "                      리스트, 튜플, 문자열 range 다 받음\n",
    "\n",
    "* while True:   => while 은 무한루프 생성이 가능하기 때문에 조심해야한다. 무한루프가 걸렸을 때는 ctrl + c를 입력해 끝낸다.\n",
    "     print()\n",
    "\n",
    "\n",
    "tip: while 반복문은 반복횟수가 정해져 있지 않을 때 자주 사용\n",
    "     for 반복문은 반복횟수가 정해져 있을 때 자주 사용\n"
   ]
  },
  {
   "cell_type": "code",
   "execution_count": null,
   "metadata": {},
   "outputs": [],
   "source": [
    "# <연습문제>변수 두개를 다르게 반복하기\n",
    "# 다음 소스 코드를 완성하여 정수 2, 5, 4, 4, 8, 3, 16, 2, 31, 1 이 각 줄에 출력되게 만드세요\n",
    "# while 에 조건식은 두개 지정하고 두변수를 모두 변화시켜야 합니다.ConnectionRefusedError\n",
    "\n",
    "# i = 2\n",
    "# j = 5\n",
    "#          or   \n",
    "#     print(i,j)\n",
    "\n",
    "\n",
    "\n"
   ]
  },
  {
   "cell_type": "code",
   "execution_count": null,
   "metadata": {},
   "outputs": [],
   "source": [
    "<심사문제>교통카드 잔액 출력하기\n",
    "표준 입력으로 금액(정수)이 입력됩니다. 1회당 요금은 1350원으로 교통카드를 사용할 때마다 각줄에 잔액을 출력하는 프로그램을 만드세요.\n",
    "단, 최초 금액은 출력하지 않아야 합니다. 그리고 잔액은 음수가 될 수 없으며 잔액이 부족하면 끝냅니다."
   ]
  },
  {
   "cell_type": "markdown",
   "metadata": {},
   "source": [
    "###Unit18 핵심요약\n",
    "\n",
    "break : 제어 흐름 중단\n",
    "continue : 제어 흐름 유지, 코드 실행만 건너뜀\n",
    "\n",
    "i = 0\n",
    "while = True:\n",
    "    print(i)\n",
    "    i += 1\n",
    "    if i ==100:\n",
    "        break      => 들여쓰기 반드시\n",
    "\n",
    "for i in range(10000):\n",
    "    print(i)\n",
    "    if i == 100:\n",
    "        break      => 들여쓰기 반드시\n",
    "\n",
    " 둘다 i == 100 이되면 반복문이 끝이난다.\n",
    "\n",
    "\n",
    "for i in range(100):\n",
    "    if i % 2 ==0:\n",
    "        continue    => 들여쓰기 반드시\n",
    "    print(i)\n",
    "\n",
    "i = 0\n",
    "while i < 100:\n",
    "    i += 1\n",
    "    if i % 2 ==0:\n",
    "        continue    => 들여쓰기 반드시\n",
    "    print(i)\n",
    "\n",
    "\n",
    "continue일 경우 참일 때의 값을 건너뛰고 출력한다.(출력 금지 코드가 생기는거지 반복문을 끝내진 않는다.)\n",
    "\n",
    "\n",
    "* pass => 반복할 코드에서 아무 일도 하지 않지만, 반복문의 형태를 유지하고싶다면 pass를 사용하면 된다."
   ]
  },
  {
   "cell_type": "code",
   "execution_count": null,
   "metadata": {},
   "outputs": [],
   "source": [
    "# <연습문제>3으로 끝나는 숫자만 출력하기\n",
    "# 다음 소스 코드를 완성하여 0과 73 사이의 숫자 중 3으로 끝나는 숫자만 출력되게 만드세요.\n",
    "\n",
    "# i = 0\n",
    "# while True:\n",
    "\n",
    "\n",
    "\n",
    "\n",
    "#     print(i, end=' ')\n",
    "#     i += 1\n",
    "\n"
   ]
  },
  {
   "cell_type": "code",
   "execution_count": null,
   "metadata": {},
   "outputs": [],
   "source": [
    "# <심사문제>두 수 사이의 숫자중 3으로 끝나지 않는 숫자 출력하기\n",
    "# 표준입력으로 정수 두개가 입력됩니다. (첫번째 입력 값의 범위는 10~200, 두번째 입력 값의 범위는 10~200이며 첫번 째 입력값은 두번째 입력갑보다 항상 작습니다,)\n",
    "# 다음 소스 코드를 완성하여 첫번 째 정수와 두번째 정수 사이의 숫자 중 3으로 끝나지 않는 숫자가 출력되게 만드세요. 정답에 코드를 작성할 때는 while True:에 맞춰서 들여쓰기 해주세요."
   ]
  }
 ],
 "metadata": {
  "language_info": {
   "name": "python"
  }
 },
 "nbformat": 4,
 "nbformat_minor": 2
}
