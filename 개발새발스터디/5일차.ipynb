{
 "cells": [
  {
   "cell_type": "markdown",
   "metadata": {},
   "source": [
    "###Unit19 핵심요약\n",
    "\n",
    "계단식으로 별 출력하기!\n",
    "-> 중첩 루프 사용하기\n",
    "\n",
    "for i in range(횟수):        # 바깥쪽 루프\n",
    "    for j in range(횟수):    # 안쪽 루프\n",
    "        가로 처리 코드\n",
    "    세로 처리 코드"
   ]
  },
  {
   "cell_type": "code",
   "execution_count": 3,
   "metadata": {},
   "outputs": [
    {
     "name": "stdout",
     "output_type": "stream",
     "text": [
      "*  *  *  *  *  \n",
      "*  *  *  *  *  \n",
      "*  *  *  *  *  \n",
      "*  *  *  *  *  \n",
      "*  *  *  *  *  \n"
     ]
    }
   ],
   "source": [
    "for i in range(5):\n",
    "    for j in range(5):\n",
    "        print('*', end='  ')\n",
    "    print()\n",
    "\n"
   ]
  },
  {
   "cell_type": "code",
   "execution_count": 4,
   "metadata": {},
   "outputs": [
    {
     "name": "stdout",
     "output_type": "stream",
     "text": [
      "*  \n",
      "*  *  \n",
      "*  *  *  \n",
      "*  *  *  *  \n",
      "*  *  *  *  *  \n"
     ]
    }
   ],
   "source": [
    "for i in range(5):\n",
    "    for j in range(5):\n",
    "        if j <= i:\n",
    "            print('*', end = '  ')\n",
    "    print()\n"
   ]
  },
  {
   "cell_type": "code",
   "execution_count": 5,
   "metadata": {},
   "outputs": [
    {
     "name": "stdout",
     "output_type": "stream",
     "text": [
      "*              \n",
      "   *           \n",
      "      *        \n",
      "         *     \n",
      "            *  \n"
     ]
    }
   ],
   "source": [
    "for i in range(5):\n",
    "    for j in range(5):\n",
    "        if i == j:\n",
    "            print('*', end = '  ')\n",
    "        else:\n",
    "            print(' ', end ='  ')\n",
    "    print()"
   ]
  },
  {
   "cell_type": "code",
   "execution_count": 7,
   "metadata": {},
   "outputs": [
    {
     "name": "stdout",
     "output_type": "stream",
     "text": [
      "*  *  *  *  *  \n",
      "*  *  *  *  \n",
      "*  *  *  \n",
      "*  *  \n",
      "*  \n"
     ]
    }
   ],
   "source": [
    "# <연습문제>역삼각형 모양으로 별 출력하기\n",
    "\n",
    "for i in range(5):\n",
    "    for j in range(5):\n",
    "        if i <= j:\n",
    "            print('*', end = '  ')\n",
    "    print()\n",
    "\n"
   ]
  },
  {
   "cell_type": "code",
   "execution_count": null,
   "metadata": {},
   "outputs": [],
   "source": [
    "# <심사문제> 산 모양으로 별 출력하기\n",
    "# 표준 입력으로 삼각형의 높이가 입력됩니다. 입력된 높이만큼 산 모양으로 별을 출력하는 프로그램을 만드세요.\n",
    "# 이때 출력 결과는 예제와 정확히 일치해야 합니다. 모양이 같더라도 공백이나 빈 줄이 더 들어가면 틀린 것으로 처리됩니다.\n",
    "\n",
    "for i in range(5):\n",
    "    for j in range(5):\n",
    "        if i <= j:\n",
    "            print('*', end = '  ')\n",
    "    print()"
   ]
  },
  {
   "cell_type": "markdown",
   "metadata": {},
   "source": [
    "###Unit20 핵심요약\n",
    "\n",
    "FizzBuzz는 매우 간단한 프로그래밍 문제이며 규칙은 다음과 같다.\n",
    "1. 1에서 100까지 출력\n",
    "2. 3의 배수는 Fizz 출력\n",
    "3. 5의 배수는 Buzz 출력\n",
    "4. 3과 5의 공배수는 FizzBuzz 출력\n",
    "\n",
    "<1부터 100까지 숫자 출력하기>\n",
    "for i in range(1, 101):\n",
    "    print(i)\n",
    "\n",
    "<3의 배수일 때와 5의 배수일 때 처리하기>\n",
    "for i in range(1,101):\n",
    "    if i % 3 == 0:\n",
    "        print(Fizz)\n",
    "    if i % 5 == 0:\n",
    "        print(Buzz)    \n",
    "    else:\n",
    "        print(i)\n"
   ]
  },
  {
   "cell_type": "code",
   "execution_count": null,
   "metadata": {},
   "outputs": [],
   "source": [
    "# <연습문제> 2와 11의 배수, 공배수 처리하기\n",
    "# 다음 소스 코드를 완성하여 1부터 100까지의 숫자를 출력하면서 2의 배수일 때는 'Fizz',\n",
    "# 11의 배수일 때는 'Buzz', 2와 11의 공배수일 때는 'FizzBuzz'가 출력되게 만드세요.\n",
    "\n"
   ]
  },
  {
   "cell_type": "markdown",
   "metadata": {},
   "source": [
    "Unit21 터틀 그래픽스로 그림다지기\n",
    "터틀은 그림을 그리는 모듈이므로 윈도우, 리눅스, mac OS 그래픽 환경에서만 동작합니다. 터미널만 있는 환경에서는 사용할 수 없습니다.\n",
    "\n",
    "import turtle as t\n",
    "t.shape('turtle')          ->     오른쪽을 바라보는 거북이가 나옴\n",
    "\n",
    "t.forward(100)             ->     거북이가 100픽셀만큼 앞으로 이동함\n",
    "\n",
    "t.right(90)               ->     거북이가 90도만큼 오른쪽으로 회전함\n",
    "\n",
    "<거북이를 이용해 다각형만들기>\n",
    "import turtle as t\n",
    "\n",
    "t.shape('turtle')\n",
    "for i in range(4):         ->      거북이가 이동하면서 사각형을 그려줌\n",
    "    t.forward(100)\n",
    "    t.right(90)"
   ]
  }
 ],
 "metadata": {
  "kernelspec": {
   "display_name": "Python 3",
   "language": "python",
   "name": "python3"
  },
  "language_info": {
   "codemirror_mode": {
    "name": "ipython",
    "version": 3
   },
   "file_extension": ".py",
   "mimetype": "text/x-python",
   "name": "python",
   "nbconvert_exporter": "python",
   "pygments_lexer": "ipython3",
   "version": "3.9.6"
  }
 },
 "nbformat": 4,
 "nbformat_minor": 2
}
