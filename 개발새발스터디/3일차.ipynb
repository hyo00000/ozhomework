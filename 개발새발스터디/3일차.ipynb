{
 "cells": [
  {
   "cell_type": "markdown",
   "metadata": {},
   "source": [
    "###Unit13 핵심요약\n",
    "\n",
    "조건문!!\n",
    "\n",
    "if 조건식 :  \n",
    "    print()  \n",
    "* if 조건문은 if에 조건식을 지정하고 : 콜론을 붙이며 다음줄에 실행할 코드는 반드시 들여쓰기 4칸을 해야합니다.\n",
    "\n",
    "x = 10  \n",
    "if x == 10:   \n",
    "    pass  => 아무일도 하지 않고 그냥 넘어간다는 뜻.  \n",
    "             이곳에 아무 코드도 넣지 않으면 에러가 발생하므로 if 조건문 형태를 유지하기 위해 사용한다.  \n",
    "             보통 나중에 작성될 코드는 주석으로 남겨놓는다. #TODO: ~~~~.   \n",
    "\n",
    "x = 15  \n",
    "if x  >= 10:  \n",
    "    print('10이상입니다.')  \n",
    "    if x == 15:  \n",
    "    print('15입니다.')  \n",
    "* 중첩 if 조건문도 사용 할 수 있다.\n",
    "  input()을 이용해 변수를 줄 수도 있다.\n"
   ]
  },
  {
   "cell_type": "code",
   "execution_count": null,
   "metadata": {},
   "outputs": [],
   "source": [
    "# <연습문제> if 조건문 사용하기\n",
    "# 다음 소스 코드를 완성하여 x의 값이 10이 아닐 때 'ok'가 출력되게 만드세요.\n",
    "\n",
    "x = 5\n",
    "if x != 10:\n",
    "    print('ok')"
   ]
  },
  {
   "cell_type": "code",
   "execution_count": 3,
   "metadata": {},
   "outputs": [
    {
     "name": "stdout",
     "output_type": "stream",
     "text": [
      "7000\n",
      "5000\n"
     ]
    }
   ],
   "source": [
    "# <심사문제> 온라인 할인 쿠폰 시스템 만들기\n",
    "# 표준 입력으로 가격(정수)과 쿠폰 이름이 각 줄에 입력됩니다. Cash3000쿠폰은 3,000원 Cash5000쿠폰은 5,000원을 할인합니다.  \n",
    "# 쿠폰에 따라 할인된 가격을 출력하는 프로그램을 만드세요.\n",
    "\n",
    "Cash3000 = 3000\n",
    "Cash5000 = 5000\n",
    "\n",
    "m = int(input())\n",
    "\n",
    "if m > int(Cash3000):\n",
    "    print(m - Cash3000)\n",
    "\n",
    "if m > int(Cash5000):\n",
    "    print(m-Cash5000)\n",
    "\n"
   ]
  },
  {
   "cell_type": "markdown",
   "metadata": {},
   "source": [
    "###Unit14 핵심요약\n",
    "\n",
    "if 조건문 홀로도 사용가능하지만 \n",
    "조건식이 만족할 때와 그렇지 않을 때를 나타내고 싶을 때는\n",
    "\n",
    "if x == 10:\n",
    "    print('10입니다.')\n",
    "else:\n",
    "    print('10이 아닙니다.')\n",
    "\n",
    "if~else 구문을 사용한다.\n",
    "\n",
    "*중첩 if조건문 => 논리연산자를 사용하여 가급적 한개의 식으로 표현하기"
   ]
  },
  {
   "cell_type": "code",
   "execution_count": 1,
   "metadata": {},
   "outputs": [
    {
     "name": "stdout",
     "output_type": "stream",
     "text": [
      "불합격\n"
     ]
    }
   ],
   "source": [
    "# <연습문제>합격 여부 판단하기\n",
    "# A기업의 입사 시험은 필기시험 점수가 80점 이상이면서 코딩 시험을 통과해야 합격이라고 정했습니다.\n",
    "# (코딩시험 통과여부는 True, False로 구분)\n",
    "# 다음 소스 코드를 완성하여 '합격', '불합격'이 출력되게 만드세요.\n",
    "\n",
    "written_test = 75\n",
    "coding_test = True\n",
    "\n",
    "if written_test >=80 and coding_test == True:\n",
    "    print('합격')\n",
    "else:\n",
    "    print('불합격')\n",
    "    "
   ]
  },
  {
   "cell_type": "code",
   "execution_count": 8,
   "metadata": {},
   "outputs": [
    {
     "name": "stdout",
     "output_type": "stream",
     "text": [
      "잘못된 점수\n"
     ]
    }
   ],
   "source": [
    "# <심사문제> 합격 여부 판단하기\n",
    "# 표준 입력으로 국어, 영어, 수학, 과학 점수가 입력됩니다. 여기서 네 과목의 평균 점수가 80점 이상일때 합격이라고 정했습니다.\n",
    "# 평균 점수에 따라 '합격', '불합격'을 출력하는 프로그램을 만드세요.\n",
    "# 단, 점수는 0점부터 100점까지만 입력받을 수 있으며 범위를 벗어났다면 '잘못된 점수'를 출력하고 합격, 불합격 여부는 출력하지 않아야 합니다.\n",
    "\n",
    "국어, 영어, 수학, 과학 = map(int,input().split(','))\n",
    "if 0< 국어 <100 and 0 < 영어 < 100 and 0 < 수학 < 100 and 0< 과학 <100:\n",
    "    sum = 국어 + 영어 + 수학 + 과학\n",
    "    average = sum/4\n",
    "\n",
    "    if  average >= 180:\n",
    "        print('합격')\n",
    "    else:\n",
    "        print('불합격')\n",
    "else:\n",
    "    print('잘못된 점수')"
   ]
  },
  {
   "cell_type": "markdown",
   "metadata": {},
   "source": [
    "###Unit15 핵심요약\n",
    "\n",
    "조건식을 여러개 지정하여 각 조건마다 다른 코드를 실행하고 싶을 때는\n",
    "\n",
    "if 조건식 :\n",
    "    코드1\n",
    "elif 조건식 :\n",
    "    코드2\n",
    "else:\n",
    "    코드3\n",
    "\n",
    "* elif 도 else처럼 혼자 쓰일 수 없다.\n",
    "* elif는 여러개 사용 가능하다.\n",
    "* 들여쓰기와 : 의 사용을 위의 예와 똑같이 해야한다.\n",
    "* elif 사용할때 else가 반드시 필요한 것은 아니다.없어도 됨.\n",
    "\n",
    "ex)음료수 자판기\n",
    "\n",
    "button = int(input())\n",
    "\n",
    "if button == 1:\n",
    "    print('콜라')\n",
    "elif button == 2:\n",
    "    print('사이다')\n",
    "elif button ==3 :\n",
    "    print('환타')\n",
    "else:\n",
    "    print('제공하지 않는 메뉴)"
   ]
  },
  {
   "cell_type": "code",
   "execution_count": 8,
   "metadata": {},
   "outputs": [
    {
     "name": "stdout",
     "output_type": "stream",
     "text": [
      "아무것도 해당하지 않음\n"
     ]
    }
   ],
   "source": [
    "# <연습문제> if, elif, else 모두 사용하기\n",
    "# 다음 소스 코드를 완성하여 변수 x가 11과 20 사이면 '11~20', 21과 30 사이면 '21~30'\n",
    "# 아무것도 해당하지 않으면 '아무것도 해당하지 않음'이 출력되게 해주세요.\n",
    "\n",
    "x = int(input())\n",
    "if 11 <= x <= 20:\n",
    "    print('11~20')\n",
    "elif 21 <= x <=30:\n",
    "    print('21~30')\n",
    "else:\n",
    "    print('아무것도 해당하지 않음')"
   ]
  },
  {
   "cell_type": "code",
   "execution_count": 11,
   "metadata": {},
   "outputs": [
    {
     "name": "stdout",
     "output_type": "stream",
     "text": [
      "이용고객은 8세이고, T-card에 남은 잔액은 8350이다.\n"
     ]
    }
   ],
   "source": [
    "# <심사문제> 교통카드 시스템 만들기\n",
    "# 표준 입력으로 나이(만 나이)가 입력됩니다.(입력값은 7이상 입력됨)\n",
    "# 교통카드 시스템에서 시내버스 요금은 다음과 같으며 각 나이에 맞게 요금을 차감한 뒤 잔액이 출력되게 만드세요(if, elif 사용)\n",
    "# 현재 교통카드에는 9000원이 들어있습니다.\n",
    "# -어린이(초등학생 만7세이상 12세 이하): 650원\n",
    "# -청소년(중,고등학생, 만 13세 이상 18세 이하):1050원\n",
    "# -어른(일반, 만19세 이상): 1250원\n",
    "\n",
    "age = int(input())\n",
    "money = 9000\n",
    "\n",
    "if 7 <= age <=12:\n",
    "    fare = money - 650\n",
    "elif 12<= age <= 18:\n",
    "    fare = money - 1050\n",
    "else:\n",
    "    fare = money - 1250\n",
    "\n",
    "print(f'이용고객은 {age}세이고, 교통카드에 남은 잔액은 {fare}이다.')\n"
   ]
  },
  {
   "cell_type": "markdown",
   "metadata": {},
   "source": []
  }
 ],
 "metadata": {
  "kernelspec": {
   "display_name": "Python 3",
   "language": "python",
   "name": "python3"
  },
  "language_info": {
   "codemirror_mode": {
    "name": "ipython",
    "version": 3
   },
   "file_extension": ".py",
   "mimetype": "text/x-python",
   "name": "python",
   "nbconvert_exporter": "python",
   "pygments_lexer": "ipython3",
   "version": "3.9.6"
  }
 },
 "nbformat": 4,
 "nbformat_minor": 2
}
