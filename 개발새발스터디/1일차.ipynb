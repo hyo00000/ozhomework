{
 "cells": [
  {
   "cell_type": "markdown",
   "metadata": {},
   "source": [
    "###Unit03. 핵심요약\n",
    "\n",
    "python은 인터프리터 방식이다.\n",
    "인터프리터 방식 = 코드를 한줄 한줄 실행하여 결과를 얻는 방식\n",
    "\n",
    "* 코드 출력하는 법\n",
    "print() or print('문자열')\n"
   ]
  },
  {
   "cell_type": "code",
   "execution_count": 7,
   "metadata": {},
   "outputs": [
    {
     "name": "stdout",
     "output_type": "stream",
     "text": [
      "Hello, world!\n",
      "python programming\n",
      "Hello, world!\n",
      "Hello, world!\n"
     ]
    }
   ],
   "source": [
    "#3.7 연습문제\n",
    "print('Hello, world!')\n",
    "print('python programming')\n",
    "#3.8 심사문제\n",
    "print('Hello, world!')\n",
    "print('Hello, world!')\n"
   ]
  },
  {
   "cell_type": "markdown",
   "metadata": {},
   "source": [
    "###Unit04 핵심요약\n",
    "\n",
    "세미콜론(;) : 구문이 끝날 때 붙이지만 python에서는 있어도 없어도 상관이 없다.   \n",
    "주석(comment) (#) : 인터프리터가 처리하지 않아 사용자만이 알 수 있도록 작성해 두는 것이다.    \n",
    "                   한줄 주석도 가능하지만, 블록주석도 가능하다.    \n",
    "들여쓰기(indentation : 코드를 읽기 쉽도록 일정한 간격을 띄워 작성하는 것이다.  \n",
    "                     2,4칸 중 공백 4칸을 사용하는 편이다.  \n",
    "코드블록 : 틀정한 동작을 위해 코드가 모여있는 상태를 말한다.  \n",
    "         같은 블록은 띄어 쓰기가 같아야하고, 공백과 탭문자를 섞어쓰면 안된다.  \n",
    "        ex) if a == 0:  \n",
    "                print('1') # 코드블록  \n",
    "                print('입니다') #코드블록  "
   ]
  },
  {
   "cell_type": "markdown",
   "metadata": {},
   "source": [
    "###Unit05 핵심요약  \n",
    "\n",
    "python에서 숫자를 나타낼 경우, 3가지로 나타낼 수 있다.    \n",
    "1.정수 (int=>integer) : + - 가 붙은 모든 수   \n",
    "2.실수 (float=>float-point) : 유리수와 무리수를 다 합친 수  \n",
    "3.복소수 (complex) : 실수부 + 허수부j  \n",
    "\n",
    "<변환>  \n",
    "1.실수 -> 정수 : int(숫자)/int(계산식)/int('문자열')  \n",
    "2.정수 -> 실수 : float(숫자)/float(계산식)/float('문자열')  \n",
    "3.실수인지 정수인지 문자열인지 아는 방법 => type  \n",
    "                                   ex) type(10)  \n",
    "                                       <class int>    \n",
    "* 실수와 정수를 계산하면? 표현 범위가 넓은 실수로 나온다.  \n",
    "\n",
    "<사칙연산> \n",
    "+ , - , *, /, //, %, **, divmod(몫, 나머지)  \n",
    "/ : 일반 나눗셈  \n",
    "//: 몫만 나옴  \n",
    "% : 나머지만 나옴  \n",
    "**: 거듭제곱  \n",
    "\n",
    "* python은 연산자 우선순위를 따르므로 먼저 계산하고 싶은 것이 있다면 괄호로 묶어주면 된다.  \n",
    "ex) ptint(6 * (4 + 3))  <= 출력하고 싶을땐 반드시 print에 넣기\n"
   ]
  },
  {
   "cell_type": "code",
   "execution_count": 15,
   "metadata": {},
   "outputs": [
    {
     "name": "stdout",
     "output_type": "stream",
     "text": [
      "7층\n"
     ]
    }
   ],
   "source": [
    "# <연습문제>\n",
    "# 아파트에서 소음이 가장심한 층수를 구하는 계산식: 0.2467 * 도로와의 거리(m) +4.159 이 나왔다. \n",
    "# 다음 소스코드를 완성하여 소음이 가장 심한 층수가 출력되게 만드세요. 단, 층수를 출력할 때는 소수점 이하 자리는 버린다.\n",
    "# (정수로 출력)\n",
    "# * 도로와의 거리 12m\n",
    "\n",
    "floor = int((0.2467 * 12 )+ 4.159)\n",
    "print(f'{floor}층')"
   ]
  },
  {
   "cell_type": "code",
   "execution_count": 17,
   "metadata": {},
   "outputs": [
    {
     "name": "stdout",
     "output_type": "stream",
     "text": [
      "피해량은 286.2\n"
     ]
    }
   ],
   "source": [
    "# <심사문제>\n",
    "# L이라는 게임에서 \"왜곡\"이라는 스킬이 AP * 0.6 +225 의 피해를 입힙니다. \n",
    "# 참고로 이 게임에서 AP는 마법 능력치를 뜻합니다.\n",
    "# 다음 소스 코드를 완성하여 스킬의 피해량이 출력되게 만드시오\n",
    "# * AP : 102\n",
    "\n",
    "damage = (102 * 0.6) +225\n",
    "print(f'피해량은 {damage}')"
   ]
  },
  {
   "cell_type": "markdown",
   "metadata": {},
   "source": [
    "###Unit06 핵심요약  \n",
    " \n",
    " <python에서 변수를 만드는 법>\n",
    "    x = 10  (x= 변수이름, 10 =값, '=' 할당한다)\n",
    "    이때, 지켜야 할 규칙!\n",
    "    1. 영문, 숫자, __부터 시작 가능\n",
    "    2. 대소문자를 구분해야함\n",
    "    3. 특수문자는 사용할 수 없음\n",
    "    4. 파이썬의 키워드는 사용할 수 없음\n",
    "    5. 숫자부터 시작할 수 없음\n",
    "\n",
    "*변수 하나만들기  \n",
    "   x = 10\n",
    "\n",
    "*변수 여러개 만들기  \n",
    "  변수 1, 변수 2, 변수 3 = 값1, 값2, 값3  \n",
    "  (이때날 수 있는 오류: valueError, 변수수와 값수가 다를 때)\n",
    "\n",
    "*변수의 특징  \n",
    " 1. 변수 값이 같다면 x=y=z=10 가능  \n",
    " 2. 두 변수의 값을 바꾸고 싶을 때 x, y = y, x 가능  \n",
    " 3. 변수 삭제하고 싶을 때 del을 붙이면 됨  \n",
    " 4. 빈변수 만드는 것 가능 x = None (자료형)  \n",
    " 5. 변수도 사칙연산이 가능하다.  \n",
    " 6. 변수를 두번 입력하지 않도록 산술연산 후 할당연산자를 제공한다.  \n",
    "   ex) a=10  \n",
    "       a += 5  \n",
    "       a  \n",
    "       15  \n",
    "       but 산술연산자와 할당연산자는 반드시 붙여써야한다.\n",
    "\n",
    "*변수를 입력하여 사용하고 싶을 때 쓰는 함수 => input()\n",
    " 변수 = input()  \n",
    " -변수a + 변수b 도 input을 이용해 가능하지만 type(input())은 str 이기 때문에  \n",
    "  숫자의 사칙연산을 하고 싶다면 int로 형변환을 해주어야한다.  \n",
    "  ex)  a = int(input())  \n",
    "       b = int(input())  \n",
    "       print(a + b)\n",
    "\n",
    "       *실수로 바꾸려면 float으로 형변환 하면 된다.\n",
    "\n",
    "*입력값을 변수 2개에 저장할 때는  \n",
    " 변수1, 변수 2 = input().split() \n",
    " (split()안에 빈칸이고 싶으면 ''/콤마찍고 싶으면 ','이런 식으로 사용하면 됨)\n",
    "\n",
    " 입력값을 정수로 바꾸고 싶을 때는  \n",
    " 변수1, 변수 2 = input().split()\n",
    " 변수1 = int()\n",
    " 변수2 = int()\n",
    " print(변수1 + 변수2)  \n",
    " or  \n",
    " 변수1, 변수2 = input().split()  \n",
    " print(int(a)+int(b))  \n",
    "\n",
    "*한번에 많은 변수를 형변환하는 법 =>map으로 묶기  \n",
    "ex) 변수1, 변수2 = map(int, input().split())  \n",
    "\n",
    " =>split결과를 모두 int, float으로 바꿀 때 map을 쓰면 아주 편함\n"
   ]
  },
  {
   "cell_type": "code",
   "execution_count": 20,
   "metadata": {},
   "outputs": [
    {
     "name": "stdout",
     "output_type": "stream",
     "text": [
      "-10,20,30\n",
      "40\n"
     ]
    }
   ],
   "source": [
    "# <연습문제>\n",
    "# 다음 소스 코드를 완선하여 정수 세 개를 입력받고 합계가 출력되게 만드세요\n",
    "# print(a + b + c)\n",
    "# 결과 -10,20 30\n",
    "#     40\n",
    "a = -10\n",
    "b = 20\n",
    "c = 30\n",
    "print(a, b, c, sep=\",\")\n",
    "print(int(a + b + c))"
   ]
  },
  {
   "cell_type": "code",
   "execution_count": 23,
   "metadata": {},
   "outputs": [
    {
     "name": "stdout",
     "output_type": "stream",
     "text": [
      "50\n",
      "100\n",
      "None\n"
     ]
    }
   ],
   "source": [
    "# <심사문제>\n",
    "# 다음 소스 코드를 완성하여 50,100, None이 각 줄에 출력되게 만드세요\n",
    "# print(a)\n",
    "# print(b)\n",
    "# print(c)\n",
    "a = 50\n",
    "b = 100\n",
    "c = None\n",
    "print(a, b, c, sep='\\n')"
   ]
  },
  {
   "cell_type": "code",
   "execution_count": 25,
   "metadata": {},
   "outputs": [
    {
     "name": "stdout",
     "output_type": "stream",
     "text": [
      "82\n"
     ]
    }
   ],
   "source": [
    "# <심사문제>\n",
    "# 표준 입력으로 국어, 영어, 수학, 과학 점수가 입력됩니다. 평균 점수를 출력하는 프로그램을 만드세요.\n",
    "# (input에서 안내 문자열은 풀력하지 않아야 합니다.)\n",
    "# 단, 평균 점수를 풀력할 때는 소수점 이하자리는 버립니다.(정수)\n",
    "국어, 영어, 수학, 과학 = map(int,input().split())\n",
    "average = (국어+영어+수학+과학) // 4\n",
    "print(average)\n"
   ]
  },
  {
   "cell_type": "markdown",
   "metadata": {},
   "source": [
    "###Unit07 핵심요약\n",
    "\n",
    "<출력 방법>  \n",
    "1. print(변수, 변수) or print(값, 값)  \n",
    "2. 변수 사이에 무언가 지정하고 싶을 때 => print(a, b, c, sep='')  \n",
    "                                  sep=''=띄어쓰기 / sep=','=콤마 / sep='\\n'=줄바꾸기  \n",
    "3. 한줄에 여러 변수값 입력하고 싶을 때 => print(a, b, c, end='')\n"
   ]
  },
  {
   "cell_type": "code",
   "execution_count": 27,
   "metadata": {},
   "outputs": [
    {
     "name": "stdout",
     "output_type": "stream",
     "text": [
      "2000/10/27 11:43:59\n"
     ]
    }
   ],
   "source": [
    "# <연습문제>\n",
    "# 다음 소스 코드를 완성하여 날짜와 시간이 출력되게 만드세요.\n",
    "year = 2000  \n",
    "month = 10  \n",
    "day = 27  \n",
    "hour = 11  \n",
    "minute = 43  \n",
    "second = 59  \n",
    "# 결과 = 2000/10/27 11:43:59\n",
    "print(year, month, day, sep='/', end=' ')\n",
    "print(hour, minute, second, sep=':')"
   ]
  },
  {
   "cell_type": "code",
   "execution_count": 30,
   "metadata": {},
   "outputs": [
    {
     "name": "stdout",
     "output_type": "stream",
     "text": [
      "1999-12-31T10:37:21\n"
     ]
    }
   ],
   "source": [
    "# <심사문제>\n",
    "# 표준 입력으로 년, 월, 일, 시, 분, 초가 입력됩니다. 다음소스 코드를 완성하여 입력된 날짜와 시간을 년-월-일T시:분:초 형식으로 출력하시오\n",
    "# 1999 12 31 10 37 21\n",
    "년 = 1999\n",
    "월 = 12\n",
    "일 = 31\n",
    "시 = 10 \n",
    "분 = 37\n",
    "초 = 21\n",
    "print(년, 월, 일, sep='-', end='T')\n",
    "print(시, 분, 초, sep=':')"
   ]
  }
 ],
 "metadata": {
  "kernelspec": {
   "display_name": "Python 3",
   "language": "python",
   "name": "python3"
  },
  "language_info": {
   "codemirror_mode": {
    "name": "ipython",
    "version": 3
   },
   "file_extension": ".py",
   "mimetype": "text/x-python",
   "name": "python",
   "nbconvert_exporter": "python",
   "pygments_lexer": "ipython3",
   "version": "3.9.6"
  }
 },
 "nbformat": 4,
 "nbformat_minor": 2
}
