{
 "cells": [
  {
   "cell_type": "markdown",
   "metadata": {},
   "source": [
    "###Unit08 핵심요약\n",
    "\n",
    "boolean(불): True, False\n",
    "\n",
    "1. 비교연산자를 통해 True or False를 나타낼 수 있다.  \n",
    "2. ==/!== 은 값 자체를 비교 하는 반면 is/ is not 은 객체를 비교한다.  \n",
    "    ex) 1 is not 1.0 =>True (두 객체의 고유한 값이 다르기 때문)  \n",
    "    따라서, 값을 비교할 때는 is를 사용하면 안된다. 반드시 비교연산자를 사용하여야한다.  \n",
    "3. 논리연산자의 경우 not -> and ->or 순으로 판단한다.  \n",
    "    a and b , a or b, notx 등 단락평가는 첫번째 값만으로 결과가 확실할 때 두번째 값을 확인하지 않는다.  \n",
    "    ex)'python' and True  \n",
    "         =true and #true  \n",
    "         =true  \n",
    "    ex) True and 'python'  \n",
    "         =true and #true\n",
    "         =python  \n",
    "\n",
    "4. 비교 연산자와 논리 연산자가 같이 나오면   \n",
    "    비교연산자 => 논리연산자 순  \n",
    "    (비교연산자:is isnot == !== > < >= <=)  \n",
    "    (논리연산자: not and or)  \n",
    "\n",
    "5. 정수 1은 True, 0은 False이다."
   ]
  },
  {
   "cell_type": "code",
   "execution_count": 1,
   "metadata": {},
   "outputs": [
    {
     "name": "stdout",
     "output_type": "stream",
     "text": [
      "False\n"
     ]
    }
   ],
   "source": [
    "# <연습문제> 합격 여부 출력하기\n",
    "# 국어, 영어, 수학, 과학 점수가 있을 때 한 과목이라도 50점 미만이면 불합격이라고 정했습니다. \n",
    "# 다음소스 코드를 완성하여 합격이면 True, 불합격이면 False가 출력되게 만드세요.\n",
    "\n",
    "korean = 92\n",
    "english = 47\n",
    "mathematics = 86\n",
    "science = 81\n",
    "\n",
    "print(korean >= 50 and english >= 50 and mathematics >= 50 and science >= 50)"
   ]
  },
  {
   "cell_type": "code",
   "execution_count": 15,
   "metadata": {},
   "outputs": [
    {
     "name": "stdout",
     "output_type": "stream",
     "text": [
      "True\n"
     ]
    }
   ],
   "source": [
    "# <심사문제> 합격 여부 출력하기\n",
    "# 표준 입력으로 국어, 영어, 수학, 과학 점수가 입력됩니다. 국어는 90점 이상, 영어는 80점 초과, 수학은 85점 초과, 과학은 80점 이상일 때 합격이라고 정했습니다.\n",
    "# (한과목이라도 조건에 만족하지 않으면 불합격)\n",
    "# 다음 소수 코드를 완성하여 합격이면 True, 불합격이면 False가 출력되게 만드세요.\n",
    "\n",
    "korean, english, mathematics, science = map(int,input().split(','))\n",
    "\n",
    "print(korean >=90 and english >80 and mathematics > 85 and science >=80)\n",
    "\n"
   ]
  },
  {
   "cell_type": "markdown",
   "metadata": {},
   "source": [
    "###Unit09 핵심요약\n",
    "\n",
    "<문자열 사용하기>  \n",
    "1. '' 작은 따옴표로 묶어서 사용  \n",
    "2. \"\" 큰 따옴표로 묶어서 사용  \n",
    "3. \"\"\"/''' 작은 따옴표 3개, 큰 따옴표 3개로 묶어서 사용  \n",
    "but, 작은 따옴표 안에 작은 따옴표를 넣거나 큰 따옴표안에 큰 따옴표를 넣을 수 없음  \n",
    "ex) s = 'he said 'Python is easy'' 이렇게 사용할 수 없음"
   ]
  },
  {
   "cell_type": "code",
   "execution_count": 20,
   "metadata": {},
   "outputs": [
    {
     "name": "stdout",
     "output_type": "stream",
     "text": [
      "Python is a programming language that lets you work quickly\n",
      "and\n",
      "integrate systems more effectively.\n"
     ]
    }
   ],
   "source": [
    "# <연습문제> 여러 줄로 된 문자열 사용하기\n",
    "# 다음 소스 코드를 완성하여 실행 겨로가대로 문자열이 출력되게 만드세요.\n",
    "\n",
    "# 실행결과 : Python is a programming language that lets you work quickly\n",
    "#          and        \n",
    "#          integrate systems more effectively.\n",
    "\n",
    "s= \"Python is a programming language that lets you work quickly\\nand\\nintegrate systems more effectively.\"\n",
    "print(s)"
   ]
  },
  {
   "cell_type": "code",
   "execution_count": 21,
   "metadata": {},
   "outputs": [
    {
     "name": "stdout",
     "output_type": "stream",
     "text": [
      "'Python' is a \"programming language\"\n",
      "that lets you work quickly\n",
      "and\n",
      "integrate systems more effectively.\n"
     ]
    }
   ],
   "source": [
    "# <심사문제> 여러줄로 된 문자열 사용하기\n",
    "# 다음 소스 코드를 완성하여 실행 결과대로 문자열이 출력되게 만드시오.\n",
    "\n",
    "# 출력결과 : 'Python' is a \"programming language\" \n",
    "#         that lets you work quickly \n",
    "#         and\n",
    "#         integrate systems more effectively.\n",
    "\n",
    "s = \"\"\"'Python' is a \"programming language\"\\nthat lets you work quickly\\nand\\nintegrate systems more effectively.\"\"\"\n",
    "print(s)"
   ]
  },
  {
   "cell_type": "code",
   "execution_count": null,
   "metadata": {},
   "outputs": [],
   "source": [
    "###Unit10 핵심요약\n",
    "\n",
    "##리스트 []  \n",
    "리스트 = [값, 값, 값]  \n",
    "(값 = 요소)\n",
    "\n",
    "1. 리스트는 문자열, 정수, 실수, 불 등 모든 자료형을 저장할 수 있으며 자료형을 섞어서 저장해도 된다.  \n",
    "  ex) person = ['James', 17, 18.0, True]  \n",
    "\n",
    "2. 리스트 = [a,b,c]  또는 리스트 = list(a,b,c)  \n",
    "3. 리스트 = list(range(횟수)) =>리스트에 range를 담을 수 있다.  \n",
    "   리스트 = list(range(시작, 끝))  \n",
    "   리스트 = list(range(시작, 끝, 증가폭))  \n",
    "4. 리스트를 튜플로 만들 수 있음  \n",
    "   ex) x = [1,2,3]\n",
    "       tuple(x)\n",
    "       x = (1,2,3)\n",
    "\n",
    "##튜플 ()\n",
    "\n",
    "튜플 =(값,값,값) 또는 튜플 = 값,값,값    \n",
    "튜플 =(값,) 또는 튜플 = 값,    \n",
    "가장 큰 차이점: 튜플은 리스트처럼 요소를 일렬로 저장하지만, 안에 저장된 요소를 변경, 추가, 삭제할 수 없다!!    \n",
    "\n",
    "1. 튜플도 여러 자료형을 다 섞어서 저장해도 된다.    \n",
    "2. 튜플을 만든 상태에서 요소를 변경하게 되면 에러가 발생하게 된다.  \n",
    "3. 튜플 =(range(횟수)) => 튜플에 range를 담을 수 있다.    \n",
    "   튜플 = tuple(range(시작, 끝))  \n",
    "   튜플 = tuple(range(시작, 끝, 증가폭))  \n",
    "4. 튜플을 리스트로 만들 수 있음    \n",
    "   ex) x = (1,2,3)\n",
    "       list(x)\n",
    "       x = [1,2,3]"
   ]
  },
  {
   "cell_type": "code",
   "execution_count": 6,
   "metadata": {},
   "outputs": [
    {
     "name": "stdout",
     "output_type": "stream",
     "text": [
      "[5, 3, 1, -1, -3, -5, -7, -9]\n"
     ]
    }
   ],
   "source": [
    "# <연습문제> range로 리스트 만들기\n",
    "# 다음 소스 코드를 완성하여 리스트[5, 3, 1, -1, -3, -5 ,-7 ,-9]가 출력되게 만드시오.\n",
    "# 리스트를 만들 때는 range를 사용해야 합니다.\n",
    "\n",
    "a = list(range(5,-10,-2))\n",
    "print(a)"
   ]
  },
  {
   "cell_type": "code",
   "execution_count": 7,
   "metadata": {},
   "outputs": [
    {
     "name": "stdout",
     "output_type": "stream",
     "text": [
      "(-10, -9, -8, -7, -6, -5, -4, -3, -2, -1, 0, 1, 2, 3, 4, 5, 6, 7, 8, 9, 10)\n"
     ]
    }
   ],
   "source": [
    "# <심사문제> range 로 튜플 만들기\n",
    "# 표준 입력으로 정수가 입력됩니다. range의 시작하는 숫자는-10, 끝나는 숫자는 10이며 입력된 정수만큼 증가하는 숫자가 들어가도록 튜플을 만들고, \n",
    "# 해당튜플을 출력하는 프로그램을 만드세요.\n",
    "\n",
    "a = tuple(range(-10,11,1))\n",
    "print(a)\n"
   ]
  },
  {
   "cell_type": "markdown",
   "metadata": {},
   "source": [
    "###Unit11 핵심요약\n",
    "\n",
    "값이 연속적으로 이어진 자료형 = 시퀀스 자료형(sequence types)\n",
    "\n",
    "=> 리스트, 튜플, range, 문자열\n",
    "\n",
    "시퀀스 자료형에서 만든 객체 => 시퀀스 객체  \n",
    "시퀀스 객체에 들어 있는 각 값 => 요소  \n",
    "\n",
    "=> 가장 큰 특징은 공통 동작과 기능을 제공한다는 점  \n",
    "1. 특정 값이 있는지 확인할 때(리스트, 튜플, range, 문자열 다 가능)  \n",
    "   값 in 시퀀스객체 / 값 not in 시퀀스객체  \n",
    "\n",
    "2. 시퀀스 객체 연결하기(단, range 는 객체끼리 연결할 수 없다. 하지만 리스트 또는 튜플로 만들어서 연결은 가능하다.  \n",
    "                   문자열+숫자 도 가능한데 문자열 + str(정수 또는 실수)이렇게 문자열로 만들어사용해야한다.)  \n",
    "   시퀀스 객체 + 시퀀스 객체   \n",
    "\n",
    "3. 시퀀스 객체 반복하기 (단, range는 객체를 반복할 수 없다. 하지만 리스트 또는 튜플로 만들어서 반복할 수 있다.)  \n",
    "    정수 * 시퀀스 객체  \n",
    "    시퀀스 객체 * 정수  \n",
    "\n",
    "4. 시퀀스 객체의 요소 개수 구하기(리스트, 튜플, range, 문자열 다 가능)  \n",
    "                          (문자열의 경우 씌어쓰기도 개수에 포함)  \n",
    "    len(시퀀스객체)  \n",
    "\n",
    "5. 순서를 찾는 인덱스 사용하기([] 여기에 인덱스를 지정하면 리스트, 튜플, range, 문자열 다 해당 요소를 가지고 올 수 있다.)  \n",
    "    시퀀스 객체[인덱스]  \n",
    "\n",
    "    * 시퀀스 객체의 인덱스는 항상 0부터 시작한다.  \n",
    "    * 인덱스를 음수로 지정 가능하나 음수로 지정시 뒤에서부터 요소에 접근하게 된다.  \n",
    "    * 범위에 없는 인덱스 지정시 IndexErrorrk 발생한다.  \n",
    "\n",
    "    * 시퀀스객체[인덱스] = 값 (only 리스트)  \n",
    "     이미 저장되어 있는 요소에 다른 값을 할당할 수 있지만 튜플, range, 문자열은 저장되어 있는 요소를 변경할 수 없다.  \n",
    "     이유는 시퀀스 자료형 중에서 튜플, range, 문자열은 읽기 전용이기 때문이다.  \n",
    " \n",
    "     * del 시퀀스객체[인덱스] = 값 (only 리스트)  \n",
    "     이미 저장되어 있는 요소에 다른 값을 할당할 수 있지만 튜플, range, 문자열은 저장되어 있는 요소를 변경할 수 없다.  \n",
    "     이유는 시퀀스 자료형 중에서 튜플, range, 문자열은 읽기 전용이기 때문이다.  \n",
    "     \n",
    "6.슬라이스 기능 사용하기   \n",
    "    시퀀스객체[시작인덱스:끝인덱스:증가폭]  (끝 인덱스는 가져오려는 인덱스 + 1을 해야한다.)  \n",
    "    시퀀스객체[시작인덱스:]  \n",
    "    시퀀스객체[:끝인덱스]  \n",
    "    시퀀스객체[::]또는 시퀀스객체[:]=> 리스트 전체 가져오기  \n",
    "\n",
    "    시퀀스객체[시작인덱스:끝인덱스:인데스증가폭] = 시퀀스객체\n",
    "    =>리스트만 사용가능/ 인덱스 증가폭을 지정했을 때는 슬라이스 범위의 요소개수와 할당할 요소개수가 정확하게 일치해야한다.\n",
    "    =>튜플, range, 문자열은 슬라이스 범위를 지정하더라도 요소를 할당할 수 없다.\n",
    "    =>del 시퀀스객체[시작인덱스:끝인덱스] 역시 할당과 마찬가지이다.\n"
   ]
  },
  {
   "cell_type": "code",
   "execution_count": 8,
   "metadata": {},
   "outputs": [
    {
     "name": "stdout",
     "output_type": "stream",
     "text": [
      "[2016, 2017, 2018]\n",
      "[9930616, 9857426, 9838892]\n"
     ]
    }
   ],
   "source": [
    "# <연습문제> 최근 3년간 인구 출력하기\n",
    "# 리스트 year에 연도, population에 서울시 인구수가 저장되어 있습니다. 다음소스 코드를 완성하여 최근 3년간 연도와 인구수가 리스트로 출력되게 만드세요.\n",
    "\n",
    "year = [2011, 2012, 2013, 2014, 2015, 2016, 2017, 2018]\n",
    "population = [10249679, 10195318, 10143645, 10103233, 10022181, 9930616, 9857426, 9838892]\n",
    "\n",
    "print(year[5:8])\n",
    "print(population[-3:])\n",
    "\n"
   ]
  },
  {
   "cell_type": "code",
   "execution_count": 12,
   "metadata": {},
   "outputs": [
    {
     "data": {
      "text/plain": [
       "(-32, 97, 9, 4, 0, 14)"
      ]
     },
     "execution_count": 12,
     "metadata": {},
     "output_type": "execute_result"
    }
   ],
   "source": [
    "# <연습문제> 인덱스가 홀수인 요소 출력하기\n",
    "# 다음 소스 코드를 완성하여 튜플 n 에서 인덱스가 홀수인 요소들이 출력되게 만드세요.\n",
    "\n",
    "n = -32, 75, 97, -10, 9, 32, 4, -15, 0, 76, 14, 2\n",
    "\n",
    "tuple(n[::2])\n"
   ]
  },
  {
   "cell_type": "code",
   "execution_count": 19,
   "metadata": {},
   "outputs": [
    {
     "name": "stdout",
     "output_type": "stream",
     "text": [
      "(1, 2, 3, 4, 5)\n"
     ]
    }
   ],
   "source": [
    "# <심사문제> 리스트의 마지막 부분 삭제하기\n",
    "# 표준 입력으로 숫자 또는 문자열 여러 개가 입력되어 리스트 x에 저장됩니다.(입력되는 숫자 또는 문자열의 개수는 정해져 있지 않음.)\n",
    "# 다음 소스 코드를 완성하여 리스트 x의 마지막 요소 5개를 삭제한 뒤 튜플로 출력되게 만드세요.\n",
    "\n",
    "x = [1, 2, 3, 4, 5, 6, 7, 8 , 9, 10]\n",
    "del x[5:11]\n",
    "print(tuple(x))\n"
   ]
  },
  {
   "cell_type": "markdown",
   "metadata": {},
   "source": [
    "Unit12 \n",
    "\n",
    "##딕셔너리 {}\n",
    "\n",
    "리스트와 튜플은 값 여러개를 일렬로 저장할 뿐 연관된 값을 묶어서 저장하는 용도로 쓰일 수 없다.  \n",
    "딕셔너리의 경우 연관된 값을 묶으서 저장하는 용도로 딕셔너리라는 자료형을 제공한다.{key 값 : value 값}=>키-값쌍(key-value pair)  \n",
    "\n",
    "딕셔너리 = dict(키1=값1, 키2=값2) => ''나 \"를 사용하지 말하야 한다. 키는 딕셔너리를 만들고 나면 문자열로 바뀐다.  \n",
    "딕셔너리 = dict(zip([키1,키2]),[값1,값2]) => dict에서 zip함수를 이용하는 방법, 리스트를 키와 값별로 만들어 dict에 넣는다.  \n",
    "딕셔너리 = dict([(키1, 값1),(키2,값2)]) => 리스트 안에 (키,값)형식의 튜플을 나열하는 것이다.  \n",
    "딕셔너리 = {(키1: 값1, 키2: 값2)} => 중괄호로 딕셔너리를 생성하는 방법이다.  \n",
    "\n",
    "1. 키 => 문자열뿐만 아니라 정수, 실수, 불도 사용할수 있으며 자료형을 섞어서 사용해도 된다.  \n",
    "        #단, 리스트와 딕셔너리는 사용할 수 없다.  \n",
    "   값 => 리스트 딕셔너리등을 포함하여 모든 자료형을 사용할 수 있다.  \n",
    "\n",
    "2. 딕셔너리 키에 값 할당하기  \n",
    " => 키값을 할당하지 않으면 딕셔너리의 전체가 출력이 된다. 따라서 키 하나씩 출력하고 싶을때는 키값을 따로 지정해주어야한다.  \n",
    "   딕셔너리[키]=값   => 키의 지정, 추가가 가능하고 중복된 키 값을 설정해 키 값을 변경 할 수도 있다.  \n",
    "\n",
    "3. 키가 없는데 값을 가져오라고 하면 keyerror가 나므로 키가 있는 지 확인해야한다.  \n",
    "    키 in 딕셔너리 또는 키 not in 딕셔너리  \n",
    "\n",
    "4. 딕셔너리 키 개수 구하기 (키의 개수는 곧 값의 개수)  \n",
    "    len(딕셔너리)\n",
    "\n"
   ]
  },
  {
   "cell_type": "code",
   "execution_count": 10,
   "metadata": {},
   "outputs": [
    {
     "name": "stdout",
     "output_type": "stream",
     "text": [
      "50\n",
      "100\n"
     ]
    }
   ],
   "source": [
    "# <연습문제> 딕셔너리에 게임 캐릭터 능력치 저장하기\n",
    "# 다음 소스 코드를 완성하여 게임 캐릭터의 체력(health)과 이동 속도(movement speed)가 출력되게 만드세요.\n",
    "\n",
    "게임 = {'health':50, 'movement speed':100, 'skill':70, 'defense':30}\n",
    "\n",
    "print(게임['health'])\n",
    "print(게임['movement speed'])\n"
   ]
  },
  {
   "cell_type": "code",
   "execution_count": 6,
   "metadata": {},
   "outputs": [
    {
     "name": "stdout",
     "output_type": "stream",
     "text": [
      "{'health_regen': 1.7, 'mana_regen': 338.8, 'mana': 1.63, 'health': 575.6}\n",
      "{'왕': '100', ' 신하': ' 200', ' 백성': ' 300'}\n"
     ]
    }
   ],
   "source": [
    "# <심사문제> 딕셔너리에 게임 캐릭터 능력치 저장하기\n",
    "# 표준입력으로 문자열 여러 개와 숫자(실수) 여러 개가 두 줄로 입력됩니다. 입력된 첫 번째 줄은 키, 두 번째 줄은 값으로 하여 딕셔너리를 생성한뒤\n",
    "# 딕셔너리를 출력하는 프로그램을 만드세요. \n",
    "\n",
    "# health health_regen mana mana_regen\n",
    "# 575.6 1.7 338.8 1.63\n",
    "\n",
    "keys= {'health', 'health_regen', 'mana', 'mana_regen'}\n",
    "values = {575.6, 1.7, 338.8, 1.63}\n",
    "\n",
    "dictionary = dict(zip(keys,values))\n",
    "print(dictionary)\n",
    "\n",
    "keys = input().split(',')\n",
    "values = input().split(',')\n",
    "\n",
    "dictionary_1 = dict(zip(keys,values))\n",
    "print(dictionary_1)"
   ]
  }
 ],
 "metadata": {
  "kernelspec": {
   "display_name": "Python 3",
   "language": "python",
   "name": "python3"
  },
  "language_info": {
   "codemirror_mode": {
    "name": "ipython",
    "version": 3
   },
   "file_extension": ".py",
   "mimetype": "text/x-python",
   "name": "python",
   "nbconvert_exporter": "python",
   "pygments_lexer": "ipython3",
   "version": "3.9.6"
  }
 },
 "nbformat": 4,
 "nbformat_minor": 2
}
