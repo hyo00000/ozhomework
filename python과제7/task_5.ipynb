{
 "cells": [
  {
   "cell_type": "markdown",
   "metadata": {},
   "source": [
    "datetime 모듈을 사용하여 현재 날짜와 시간을 출력하는 프로그램을 작성하세요. \n",
    "\n",
    "또한, 사용자로부터 태어난 년도를 입력받아 현재 나이를 계산하여 출력하세요."
   ]
  },
  {
   "cell_type": "markdown",
   "metadata": {},
   "source": [
    "import datetime\n",
    "\n",
    "now = datetime.datetime.now()\n",
    "print(\"현재 날짜와 시간은: \", now)\n",
    "\n",
    "date_string = now.strftime(\"%Y년 %m월 %d일 %H시 %M분 %S초\")\n",
    "print(\"오늘 날짜와 시간은: \", date_string)\n",
    "\n",
    "user_birth = datetime.date(2000,1,1)\n",
    "print(\"태어난 날은: \", user_birth)\n",
    "\n",
    "user_age = now.year - user_birth.year\n",
    "\n",
    "print(f'만 나이는 {user_age}입니다.')"
   ]
  }
 ],
 "metadata": {
  "kernelspec": {
   "display_name": "Python 3",
   "language": "python",
   "name": "python3"
  },
  "language_info": {
   "codemirror_mode": {
    "name": "ipython",
    "version": 3
   },
   "file_extension": ".py",
   "mimetype": "text/x-python",
   "name": "python",
   "nbconvert_exporter": "python",
   "pygments_lexer": "ipython3",
   "version": "3.9.6"
  }
 },
 "nbformat": 4,
 "nbformat_minor": 2
}
