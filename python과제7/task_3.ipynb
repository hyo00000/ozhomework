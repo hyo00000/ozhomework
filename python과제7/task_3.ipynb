{
 "cells": [
  {
   "cell_type": "markdown",
   "metadata": {},
   "source": [
    "사용자로부터 여러 개의 숫자를 입력받아 리스트에 저장한 후, 사용자가 'done'이라고 입력할 때까지 계속 입력받으세요. \n",
    "\n",
    "- 입력 중 숫자가 아닌 값이 입력되면 ValueError를 처리\n",
    "- 숫자 외 값이 입력된 경우 어떤 값이 잘못 입력되었는지 사용자에게 알려주는 문구 출력<br>\n",
    "  (예: f\"잘못된 값: {변수}. 숫자를 입력해주세요.\")\n",
    "\n"
   ]
  },
  {
   "cell_type": "markdown",
   "metadata": {},
   "source": [
    "input_numbers = []\n",
    "numbers = []\n",
    "\n",
    "while True:\n",
    "    input_numbers = input(\"숫자를 입력하세요.(종료하려면 done을 입력하세요.)\")\n",
    "        if input_numbers_lower == \"done\":\n",
    "            break\n",
    "            for item in input_numbers:\n",
    "                try:\n",
    "                    int(item)\n",
    "                    numbers.append(item)\n",
    "\n",
    "\n",
    "        else:\n",
    "            print(ValueError)\n",
    "            print(f\"잘못된 값:{변수}, 숫자를 입력해주세요,\")\n"
   ]
  },
  {
   "cell_type": "code",
   "execution_count": 2,
   "metadata": {},
   "outputs": [
    {
     "name": "stdout",
     "output_type": "stream",
     "text": [
      "잘못된 값:{error_num}, 반드시 숫자를 입력해주세요,\n",
      "[4, 5]\n"
     ]
    }
   ],
   "source": [
    "input_numbers = []\n",
    "numbers = []\n",
    "error_num = []\n",
    "\n",
    "while True:\n",
    "    input_numbers = input(\"숫자를 입력하세요.(종료하려면 done을 입력하세요.)\")\n",
    "    if input_numbers.lower() == \"done\":\n",
    "        break\n",
    "            \n",
    "    try:\n",
    "        item = int(input_numbers)\n",
    "        numbers.append(item)\n",
    "    except ValueError:\n",
    "        print(\"잘못된 값:{error_num}, 반드시 숫자를 입력해주세요,\")\n",
    "        error_num.append(input_numbers)\n",
    "\n",
    "print(numbers)"
   ]
  }
 ],
 "metadata": {
  "kernelspec": {
   "display_name": "Python 3",
   "language": "python",
   "name": "python3"
  },
  "language_info": {
   "codemirror_mode": {
    "name": "ipython",
    "version": 3
   },
   "file_extension": ".py",
   "mimetype": "text/x-python",
   "name": "python",
   "nbconvert_exporter": "python",
   "pygments_lexer": "ipython3",
   "version": "3.9.6"
  }
 },
 "nbformat": 4,
 "nbformat_minor": 2
}
