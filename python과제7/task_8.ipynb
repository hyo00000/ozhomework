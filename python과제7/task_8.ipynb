{
 "cells": [
  {
   "cell_type": "markdown",
   "metadata": {},
   "source": [
    "여러분이 자주 사용하는 수학적 연산<br>\n",
    "(예: 삼각형 넓이, 원의 넓이, 직육면체의 넓이)을 수행하는 함수들을 포함하는 mymath.py라는 이름의 모듈을 만드세요. \n",
    "\n",
    "이 모듈을 사용하여 작성된 함수들을 실제로 임포트하고 사용하는 간단한 프로그램을 작성하세요."
   ]
  },
  {
   "cell_type": "markdown",
   "metadata": {},
   "source": []
  },
  {
   "cell_type": "code",
   "execution_count": 1,
   "metadata": {},
   "outputs": [],
   "source": [
    "\n",
    "#삼각형의 넓이\n",
    "def number_a():\n",
    "    base = input(\"삼각형의 밑변의 길이를 입력해주세요\")\n",
    "    return float(base)\n",
    "\n",
    "def number_b():\n",
    "    height = input(\"삼각형의 높이를 입력해주세요\")\n",
    "    return float(height)\n",
    "\n",
    "def get_triangle(area):\n",
    "    return (number_a * number_b)/ 2\n",
    "\n",
    "#원의 넓이\n",
    "pi = 3.141592\n",
    "def number_input():\n",
    "    value = input(\"반지름을 입력해주세요\")\n",
    "    return float(value)\n",
    "\n",
    "def get_circle(radius):\n",
    "    return pi * radius * radius\n",
    "\n",
    "#직육면체의 넓이\n",
    "def number_c():\n",
    "    width = input(\"직육면체 가로의 길이를 입력해주세요\")\n",
    "    return float(width)\n",
    "\n",
    "def number_d():\n",
    "    length = input(\"직육면체 세로의 길이를 입력해주세요\")\n",
    "    return float(length)\n",
    "\n",
    "def get_rectangular(area):\n",
    "    return (number_c * number_d) * 6"
   ]
  },
  {
   "cell_type": "code",
   "execution_count": null,
   "metadata": {},
   "outputs": [],
   "source": [
    "import mymath_module as mymath\n",
    "\n",
    "radius = mymath.number_input\n",
    "print(mymath.get_circle(radius))\n",
    "\n",
    "base = mymath.number_a\n",
    "height = mymath.number_b\n",
    "print(mymath.get_triangle(area))\n",
    "      \n",
    "width = mymath.number_c\n",
    "length = mymath.number_d\n",
    "print(mymath.get_rectangulat(area))\n"
   ]
  }
 ],
 "metadata": {
  "kernelspec": {
   "display_name": "Python 3",
   "language": "python",
   "name": "python3"
  },
  "language_info": {
   "codemirror_mode": {
    "name": "ipython",
    "version": 3
   },
   "file_extension": ".py",
   "mimetype": "text/x-python",
   "name": "python",
   "nbconvert_exporter": "python",
   "pygments_lexer": "ipython3",
   "version": "3.9.6"
  }
 },
 "nbformat": 4,
 "nbformat_minor": 2
}
